{
 "cells": [
  {
   "cell_type": "markdown",
   "metadata": {},
   "source": [
    "## 评语情感语料库合成"
   ]
  },
  {
   "cell_type": "markdown",
   "metadata": {},
   "source": [
    "为了训练更加全能的语料情感推断模型，我们需要首先合成各种场景下的语料库。\n",
    "以下各个分语料库来自于：https://github.com/aespresso/chinese_sentiment"
   ]
  },
  {
   "cell_type": "markdown",
   "metadata": {},
   "source": [
    "引入panda包"
   ]
  },
  {
   "cell_type": "code",
   "execution_count": 19,
   "metadata": {},
   "outputs": [],
   "source": [
    "import pandas as pd"
   ]
  },
  {
   "cell_type": "markdown",
   "metadata": {},
   "source": [
    "定义输出地址和语料库处理方法。识别语料库中标签，提取指定标签作为正向或反向观点并收集观点为csv文件。"
   ]
  },
  {
   "cell_type": "code",
   "execution_count": 20,
   "metadata": {},
   "outputs": [],
   "source": [
    "path = './csvdata'\n",
    "\n",
    "def emotion_convert(string,pos=1,neg=0):\n",
    "    dictionary = {\n",
    "        pos:'POS',\n",
    "        neg:'NEG'\n",
    "    }\n",
    "    return dictionary.get(string, None)\n",
    "\n",
    "def file_convert(out_path,pd_all,review='review',label='label',pos=1,neg=0):\n",
    "    print('评论数目（总体）：%d' % pd_all.shape[0])\n",
    "    print('评论数目（正向）：%d' % pd_all[getattr(pd_all, label)==pos].shape[0])\n",
    "    print('评论数目（负向）：%d' % pd_all[getattr(pd_all, label)==neg].shape[0])\n",
    "\n",
    "    review_data = []\n",
    "    label_data = []\n",
    "    \n",
    "    for row in pd_all.itertuples():\n",
    "        # print(emotion_convert(getattr(row, 'label')),getattr(row, 'review'))\n",
    "        try:\n",
    "            if getattr(row, label) == neg or getattr(row, label) == pos:\n",
    "                review_data.append(getattr(row, review))\n",
    "                label_data.append(emotion_convert(getattr(row, label),pos,neg))\n",
    "        except:\n",
    "            continue\n",
    "    df = pd.DataFrame({'review':review_data,'label':label_data})\n",
    "    df.to_csv(out_path)"
   ]
  },
  {
   "cell_type": "markdown",
   "metadata": {},
   "source": [
    "### 酒店评论语料库"
   ]
  },
  {
   "cell_type": "code",
   "execution_count": 21,
   "metadata": {},
   "outputs": [
    {
     "name": "stdout",
     "output_type": "stream",
     "text": [
      "评论数目（总体）：7766\n",
      "评论数目（正向）：5322\n",
      "评论数目（负向）：2444\n"
     ]
    }
   ],
   "source": [
    "pd_all = pd.read_csv(path + 'ChnSentiCorp_htl_all.csv')\n",
    "out_path = path + '/ChnSentiCorp_htl_all_ed.csv'\n",
    "\n",
    "file_convert(out_path,pd_all)"
   ]
  },
  {
   "cell_type": "markdown",
   "metadata": {},
   "source": [
    "### 外卖评价语料库"
   ]
  },
  {
   "cell_type": "code",
   "execution_count": 22,
   "metadata": {},
   "outputs": [
    {
     "name": "stdout",
     "output_type": "stream",
     "text": [
      "评论数目（总体）：11987\n",
      "评论数目（正向）：4000\n",
      "评论数目（负向）：7987\n"
     ]
    }
   ],
   "source": [
    "pd_all = pd.read_csv(path + 'waimai_10k.csv')\n",
    "out_path = path + '/waimai_10k_ed.csv'\n",
    "file_convert(out_path,pd_all)"
   ]
  },
  {
   "cell_type": "markdown",
   "metadata": {},
   "source": [
    "### 线上购物评论语料库"
   ]
  },
  {
   "cell_type": "markdown",
   "metadata": {},
   "source": [
    "类似方式"
   ]
  },
  {
   "cell_type": "code",
   "execution_count": 23,
   "metadata": {},
   "outputs": [
    {
     "name": "stdout",
     "output_type": "stream",
     "text": [
      "评论数目（总体）：62774\n",
      "评论数目（正向）：31728\n",
      "评论数目（负向）：31046\n"
     ]
    }
   ],
   "source": [
    "pd_all = pd.read_csv(path + 'online_shopping_10_cats.csv')\n",
    "out_path = path + '/online_shopping_10_cats_ed.csv'\n",
    "file_convert(out_path,pd_all)"
   ]
  },
  {
   "cell_type": "markdown",
   "metadata": {},
   "source": [
    "### 新浪微博语料库"
   ]
  },
  {
   "cell_type": "markdown",
   "metadata": {},
   "source": [
    "新浪微博语料库weibo_senti_100k.csv"
   ]
  },
  {
   "cell_type": "code",
   "execution_count": 24,
   "metadata": {},
   "outputs": [
    {
     "name": "stdout",
     "output_type": "stream",
     "text": [
      "评论数目（总体）：119988\n",
      "评论数目（正向）：59993\n",
      "评论数目（负向）：59995\n"
     ]
    }
   ],
   "source": [
    "pd_all = pd.read_csv(path + 'weibo_senti_100k.csv')\n",
    "out_path = path + '/weibo_senti_100k_ed.csv'\n",
    "file_convert(out_path,pd_all)"
   ]
  },
  {
   "cell_type": "markdown",
   "metadata": {},
   "source": [
    "### 电影评论语料库"
   ]
  },
  {
   "cell_type": "code",
   "execution_count": 25,
   "metadata": {},
   "outputs": [
    {
     "name": "stdout",
     "output_type": "stream",
     "text": [
      "评论数目（总体）：2125056\n",
      "评论数目（正向）：638106\n",
      "评论数目（负向）：190927\n"
     ]
    }
   ],
   "source": [
    "\n",
    "pd_all = pd.read_csv(path + 'ratings_films.csv')\n",
    "out_path = path + '/ratings_films_ed.csv'\n",
    "file_convert(out_path,pd_all,review='comment',label='rating',pos=5,neg=1)"
   ]
  },
  {
   "cell_type": "markdown",
   "metadata": {},
   "source": [
    "### 餐馆评论语料库"
   ]
  },
  {
   "cell_type": "code",
   "execution_count": 26,
   "metadata": {},
   "outputs": [
    {
     "name": "stdout",
     "output_type": "stream",
     "text": [
      "评论数目（总体）：4422473\n",
      "评论数目（正向）：421155\n",
      "评论数目（负向）：99553\n"
     ]
    }
   ],
   "source": [
    "pd_all = pd.read_csv(path + 'ratings_res.csv')\n",
    "out_path = path + '/ratings_res_ed.csv'\n",
    "file_convert(out_path,pd_all,review='comment',label='rating',pos=5,neg=1)"
   ]
  },
  {
   "cell_type": "markdown",
   "metadata": {},
   "source": [
    "### 商品评论语料库"
   ]
  },
  {
   "cell_type": "code",
   "execution_count": 27,
   "metadata": {},
   "outputs": [
    {
     "name": "stdout",
     "output_type": "stream",
     "text": [
      "评论数目（总体）：7202921\n",
      "评论数目（正向）：4184629\n",
      "评论数目（负向）：293751\n"
     ]
    }
   ],
   "source": [
    "pd_all = pd.read_csv(path + 'ratings_items.csv')\n",
    "out_path = path + '/ratings_items_ed.csv'\n",
    "file_convert(out_path,pd_all,review='comment',label='rating',pos=5,neg=1)"
   ]
  },
  {
   "cell_type": "markdown",
   "metadata": {},
   "source": [
    "### 语料库合成"
   ]
  },
  {
   "cell_type": "code",
   "execution_count": 36,
   "metadata": {},
   "outputs": [
    {
     "name": "stdout",
     "output_type": "stream",
     "text": [
      "ChnSentiCorp_htl_all_ed文件合并完毕\n",
      "online_shopping_10_cats_ed文件合并完毕\n",
      "ratings_films_ed文件合并完毕\n",
      "ratings_items_ed文件合并完毕\n",
      "ratings_res_ed文件合并完毕\n",
      "weibo_senti_100k_ed文件合并完毕\n",
      "waimai_10k_ed文件合并完毕\n",
      "好评和差评分别有： [3401346, 538266]\n"
     ]
    }
   ],
   "source": [
    "Catalog = ['ChnSentiCorp_htl_all_ed', 'online_shopping_10_cats_ed', 'ratings_films_ed', 'ratings_items_ed',  'ratings_res_ed', 'weibo_senti_100k_ed', 'waimai_10k_ed']\n",
    "\n",
    "Pos_data = open(path + '/POS/Pos_data_ed.txt', 'a', encoding='utf-8')\n",
    "Neg_data = open(path + '/NEG/Neg_data_ed.txt', 'a', encoding='utf-8')\n",
    "count = [0,0]\n",
    "for item in Catalog:\n",
    "    pd_all = pd.read_csv(path + item + '.csv')\n",
    "    #print(pd_all)\n",
    "    for row in pd_all.itertuples():\n",
    "        #print(alti)\n",
    "        try:\n",
    "            if row.label == 'POS':\n",
    "                Pos_data.write(row.review + '\\n')\n",
    "                count[0] +=1\n",
    "            elif row.label == 'NEG':\n",
    "                Neg_data.write(row.review + '\\n')\n",
    "                count[1] +=1\n",
    "        except:\n",
    "            continue\n",
    "    print(\"{}文件合并完毕\".format(item))\n",
    "\n",
    "Pos_data.close()\n",
    "Neg_data.close()\n",
    "print(\"好评和差评分别有：\",count)\n"
   ]
  }
 ],
 "metadata": {
  "kernelspec": {
   "display_name": "Python 3.9.2 64-bit",
   "language": "python",
   "name": "python3"
  },
  "language_info": {
   "codemirror_mode": {
    "name": "ipython",
    "version": 3
   },
   "file_extension": ".py",
   "mimetype": "text/x-python",
   "name": "python",
   "nbconvert_exporter": "python",
   "pygments_lexer": "ipython3",
   "version": "3.9.2"
  },
  "orig_nbformat": 4,
  "vscode": {
   "interpreter": {
    "hash": "f3041bd533004b2254ccb1f4db718601acc46e038d61812d0cb61175780c7b56"
   }
  }
 },
 "nbformat": 4,
 "nbformat_minor": 2
}
